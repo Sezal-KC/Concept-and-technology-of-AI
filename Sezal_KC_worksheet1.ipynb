{
  "nbformat": 4,
  "nbformat_minor": 0,
  "metadata": {
    "colab": {
      "provenance": []
    },
    "kernelspec": {
      "name": "python3",
      "display_name": "Python 3"
    },
    "language_info": {
      "name": "python"
    }
  },
  "cells": [
    {
      "cell_type": "markdown",
      "source": [
        "Warming Up Exercise: Basic Vector and Matrix Operation with Numpy.\n",
        "Problem - 1: Array Creation:"
      ],
      "metadata": {
        "id": "I8PEYELewGzx"
      }
    },
    {
      "cell_type": "markdown",
      "source": [
        "1. Initialize an empty array with size 2X2."
      ],
      "metadata": {
        "id": "FdihNjGSwI5Q"
      }
    },
    {
      "cell_type": "code",
      "source": [
        "import numpy as np\n",
        "array=np.empty((2,2))\n",
        "array.shape\n",
        "\n"
      ],
      "metadata": {
        "colab": {
          "base_uri": "https://localhost:8080/"
        },
        "id": "Wzd35GN_wOeu",
        "outputId": "4ccc5819-f33a-4c98-dd7c-f9a419bb29c7"
      },
      "execution_count": null,
      "outputs": [
        {
          "output_type": "execute_result",
          "data": {
            "text/plain": [
              "array([[4.97210477e-310, 0.00000000e+000],\n",
              "       [4.97119636e-310, 6.86914029e-310]])"
            ]
          },
          "metadata": {},
          "execution_count": 11
        }
      ]
    },
    {
      "cell_type": "markdown",
      "source": [
        "2. Initialize an all one array with size 4X2."
      ],
      "metadata": {
        "id": "AABdDG2szG9b"
      }
    },
    {
      "cell_type": "code",
      "source": [
        "array=np.ones((4,2))\n",
        "array.shape\n",
        "array\n"
      ],
      "metadata": {
        "colab": {
          "base_uri": "https://localhost:8080/"
        },
        "id": "uem1dR-uz8_K",
        "outputId": "f56d1876-8a75-4704-bc0b-784ba5666ce7"
      },
      "execution_count": null,
      "outputs": [
        {
          "output_type": "execute_result",
          "data": {
            "text/plain": [
              "array([[1., 1.],\n",
              "       [1., 1.],\n",
              "       [1., 1.],\n",
              "       [1., 1.]])"
            ]
          },
          "metadata": {},
          "execution_count": 10
        }
      ]
    },
    {
      "cell_type": "markdown",
      "source": [
        "3. Return a new array of given shape and type, filled with fill value.{Hint: np.full}"
      ],
      "metadata": {
        "id": "kiUyNHpq1HBn"
      }
    },
    {
      "cell_type": "code",
      "source": [
        "array=np.full((4,3),3)\n",
        "array"
      ],
      "metadata": {
        "colab": {
          "base_uri": "https://localhost:8080/"
        },
        "id": "zDjMfCRm1Qst",
        "outputId": "32bfdb8f-c157-4824-c20c-c9c3ba6a8dbe"
      },
      "execution_count": null,
      "outputs": [
        {
          "output_type": "execute_result",
          "data": {
            "text/plain": [
              "array([[3, 3, 3],\n",
              "       [3, 3, 3],\n",
              "       [3, 3, 3],\n",
              "       [3, 3, 3]])"
            ]
          },
          "metadata": {},
          "execution_count": 13
        }
      ]
    },
    {
      "cell_type": "markdown",
      "source": [
        "4. Return a new array of zeros with same shape and type as a given array.{Hint: np.zeros like}"
      ],
      "metadata": {
        "id": "SZ97-D0F2Vj_"
      }
    },
    {
      "cell_type": "code",
      "source": [
        "initial_array=np.arange(6).reshape(2,3)\n",
        "initial_array\n",
        "array=np.zeros_like(initial_array)\n",
        "array"
      ],
      "metadata": {
        "colab": {
          "base_uri": "https://localhost:8080/"
        },
        "id": "GDTYpP562hLL",
        "outputId": "3d4008c9-1593-42ae-8269-bbfb5590de10"
      },
      "execution_count": null,
      "outputs": [
        {
          "output_type": "execute_result",
          "data": {
            "text/plain": [
              "array([[0, 0, 0],\n",
              "       [0, 0, 0]])"
            ]
          },
          "metadata": {},
          "execution_count": 19
        }
      ]
    },
    {
      "cell_type": "markdown",
      "source": [
        "5. Return a new array of ones with same shape and type as a given array.{Hint: np.ones like}"
      ],
      "metadata": {
        "id": "9gsWtdrh4qoX"
      }
    },
    {
      "cell_type": "code",
      "source": [
        "initial_array=np.arange(8).reshape(2,4)\n",
        "array=np.ones_like(initial_array)\n",
        "array"
      ],
      "metadata": {
        "colab": {
          "base_uri": "https://localhost:8080/"
        },
        "id": "L4d-oIWC4ypl",
        "outputId": "a0cde9d5-3fd1-4bce-edfb-a3ca547be19b"
      },
      "execution_count": null,
      "outputs": [
        {
          "output_type": "execute_result",
          "data": {
            "text/plain": [
              "array([[1, 1, 1, 1],\n",
              "       [1, 1, 1, 1]])"
            ]
          },
          "metadata": {},
          "execution_count": 22
        }
      ]
    },
    {
      "cell_type": "markdown",
      "source": [
        "6. For an existing list new_list = [1,2,3,4] convert to an numpy array.{Hint: np.array()}"
      ],
      "metadata": {
        "id": "7OjsFTC85M8A"
      }
    },
    {
      "cell_type": "code",
      "source": [
        "new_list=[1,2,3,4]\n",
        "array=np.array(new_list)\n",
        "array"
      ],
      "metadata": {
        "colab": {
          "base_uri": "https://localhost:8080/"
        },
        "id": "wwyV58sL5QCF",
        "outputId": "91da682a-148d-4b00-ade1-6107ef7ce9cf"
      },
      "execution_count": null,
      "outputs": [
        {
          "output_type": "execute_result",
          "data": {
            "text/plain": [
              "array([1, 2, 3, 4])"
            ]
          },
          "metadata": {},
          "execution_count": 23
        }
      ]
    },
    {
      "cell_type": "markdown",
      "source": [
        "4.1.1 Problem - 2: Array Manipulation: Numerical Ranges and Array indexing:"
      ],
      "metadata": {
        "id": "klvDhow65ekn"
      }
    },
    {
      "cell_type": "markdown",
      "source": [
        "1. Create an array with values ranging from 10 to 49. {Hint:np.arrange()}."
      ],
      "metadata": {
        "id": "q8csAoz15iIW"
      }
    },
    {
      "cell_type": "code",
      "source": [
        "array=np.arange(10,50)\n",
        "array"
      ],
      "metadata": {
        "colab": {
          "base_uri": "https://localhost:8080/"
        },
        "id": "fxNnMAN55oVj",
        "outputId": "2117f3ad-d433-48b3-aea2-f974d8db5f3a"
      },
      "execution_count": null,
      "outputs": [
        {
          "output_type": "execute_result",
          "data": {
            "text/plain": [
              "array([10, 11, 12, 13, 14, 15, 16, 17, 18, 19, 20, 21, 22, 23, 24, 25, 26,\n",
              "       27, 28, 29, 30, 31, 32, 33, 34, 35, 36, 37, 38, 39, 40, 41, 42, 43,\n",
              "       44, 45, 46, 47, 48, 49])"
            ]
          },
          "metadata": {},
          "execution_count": 24
        }
      ]
    },
    {
      "cell_type": "markdown",
      "source": [
        "2. Create a 3X3 matrix with values ranging from 0 to 8.\n",
        "{Hint:look for np.reshape()}"
      ],
      "metadata": {
        "id": "0o2ENPTC597A"
      }
    },
    {
      "cell_type": "code",
      "source": [
        "array=np.arange(0,9).reshape(3,3)\n",
        "array"
      ],
      "metadata": {
        "colab": {
          "base_uri": "https://localhost:8080/"
        },
        "id": "je9sdcBb6BZX",
        "outputId": "b065735c-107b-4da2-c0e0-3f098f0ff9c1"
      },
      "execution_count": null,
      "outputs": [
        {
          "output_type": "execute_result",
          "data": {
            "text/plain": [
              "array([[0, 1, 2],\n",
              "       [3, 4, 5],\n",
              "       [6, 7, 8]])"
            ]
          },
          "metadata": {},
          "execution_count": 25
        }
      ]
    },
    {
      "cell_type": "markdown",
      "source": [
        "3. Create a 3X3 identity matrix.{Hint:np.eye()}"
      ],
      "metadata": {
        "id": "WeLTUUy96N-A"
      }
    },
    {
      "cell_type": "code",
      "source": [
        "array=np.eye(3)\n",
        "array"
      ],
      "metadata": {
        "colab": {
          "base_uri": "https://localhost:8080/"
        },
        "id": "fbAGd8mU6SZO",
        "outputId": "4433d139-ce20-4e8b-9653-d3ac8ce0e931"
      },
      "execution_count": null,
      "outputs": [
        {
          "output_type": "execute_result",
          "data": {
            "text/plain": [
              "array([[1., 0., 0.],\n",
              "       [0., 1., 0.],\n",
              "       [0., 0., 1.]])"
            ]
          },
          "metadata": {},
          "execution_count": 26
        }
      ]
    },
    {
      "cell_type": "markdown",
      "source": [
        "4. Create a random array of size 30 and find the mean of the array.\n",
        "{Hint:check for np.random.random() and array.mean() function}"
      ],
      "metadata": {
        "id": "LDqumAUw6p1U"
      }
    },
    {
      "cell_type": "code",
      "source": [
        "import numpy as np\n",
        "array = np.random.random(30)\n",
        "mean = array.mean()\n",
        "\n",
        "print(\"Random array: \", array)\n",
        "print(\"Mean of array: \", mean)\n"
      ],
      "metadata": {
        "colab": {
          "base_uri": "https://localhost:8080/"
        },
        "id": "Ts1YNSQWGxPZ",
        "outputId": "d51d9fc8-d7eb-4314-bf33-fb96a7117cb8"
      },
      "execution_count": null,
      "outputs": [
        {
          "output_type": "stream",
          "name": "stdout",
          "text": [
            "Random array:  [0.4910031  0.98812777 0.80737325 0.20833294 0.29690329 0.7529268\n",
            " 0.18848008 0.55669745 0.39464322 0.17773231 0.2988705  0.48942434\n",
            " 0.29459411 0.26285683 0.59274228 0.16787503 0.68485747 0.43110301\n",
            " 0.0566736  0.35921813 0.15714593 0.10358011 0.05824547 0.67984743\n",
            " 0.88957005 0.27277156 0.32310683 0.57483342 0.49352371 0.40079935]\n",
            "Mean of array:  0.41512864572073954\n"
          ]
        }
      ]
    },
    {
      "cell_type": "markdown",
      "source": [
        "5. Create a 10X10 array with random values and find the minimum and maximum values."
      ],
      "metadata": {
        "id": "iK__ksd8HAQa"
      }
    },
    {
      "cell_type": "code",
      "source": [
        "import numpy as np\n",
        "array=np.random.random((10,10))\n",
        "min_value=array.min()\n",
        "max_value=array.max()\n",
        "print(\"10x10 Random Array:\\n\", array)\n",
        "print(\"Minimum Value:\", min_value)\n",
        "print(\"Maximum Value:\", max_value)"
      ],
      "metadata": {
        "colab": {
          "base_uri": "https://localhost:8080/"
        },
        "id": "9BHKfLfsHIzD",
        "outputId": "82ccc64f-7852-4dcd-976a-3dbabc36d61e"
      },
      "execution_count": null,
      "outputs": [
        {
          "output_type": "stream",
          "name": "stdout",
          "text": [
            "10x10 Random Array:\n",
            " [[0.19631286 0.51731636 0.90615416 0.03612955 0.21689512 0.28392222\n",
            "  0.56996602 0.51677124 0.29430797 0.00117335]\n",
            " [0.27657633 0.63214215 0.99419421 0.3660541  0.09605255 0.83261157\n",
            "  0.22579307 0.31037967 0.12838928 0.71260208]\n",
            " [0.08406482 0.45733618 0.4380922  0.97786597 0.7979835  0.67433567\n",
            "  0.72167156 0.46316344 0.01455759 0.16342164]\n",
            " [0.31043648 0.17363829 0.15253198 0.23316845 0.40293461 0.3888388\n",
            "  0.20972407 0.6277486  0.19410162 0.66740666]\n",
            " [0.74518728 0.176846   0.69101876 0.89502419 0.14088827 0.90275755\n",
            "  0.55282316 0.93374721 0.62034648 0.57089486]\n",
            " [0.83761934 0.84668998 0.40173625 0.75180619 0.29136328 0.135878\n",
            "  0.09756475 0.75895259 0.63606104 0.89901555]\n",
            " [0.33978407 0.84629092 0.8189276  0.31900054 0.52856789 0.4968078\n",
            "  0.16053929 0.09484222 0.62362732 0.07689432]\n",
            " [0.14555438 0.47507206 0.16094155 0.50811697 0.82636638 0.02054311\n",
            "  0.42624258 0.8214425  0.86294337 0.18432296]\n",
            " [0.3764561  0.33728449 0.79203401 0.36741127 0.00752549 0.80715727\n",
            "  0.35096244 0.05431334 0.43241375 0.51523204]\n",
            " [0.77939118 0.6327813  0.41889784 0.02489076 0.03035263 0.67284499\n",
            "  0.86784173 0.00309189 0.53318682 0.0830093 ]]\n",
            "Minimum Value: 0.0011733477151615324\n",
            "Maximum Value: 0.9941942058759344\n"
          ]
        }
      ]
    },
    {
      "cell_type": "markdown",
      "source": [
        "6. Create a zero array of size 10 and replace 5th element with 1."
      ],
      "metadata": {
        "id": "l_cqTuLfHilu"
      }
    },
    {
      "cell_type": "code",
      "source": [
        "array=np.zeros(10)\n",
        "array[4]=1\n",
        "print(\"Updated array:\", array)"
      ],
      "metadata": {
        "colab": {
          "base_uri": "https://localhost:8080/"
        },
        "id": "fi7lz2HwHotX",
        "outputId": "d36e4f59-dd4b-4e3e-f3de-a866931060ef"
      },
      "execution_count": null,
      "outputs": [
        {
          "output_type": "stream",
          "name": "stdout",
          "text": [
            "Updated array: [0. 0. 0. 0. 1. 0. 0. 0. 0. 0.]\n"
          ]
        }
      ]
    },
    {
      "cell_type": "markdown",
      "source": [
        "7. Reverse an array arr = [1,2,0,0,4,0]."
      ],
      "metadata": {
        "id": "3svorO2IH4DK"
      }
    },
    {
      "cell_type": "code",
      "source": [
        "arr=np.array([1,2,0,0,4,0])\n",
        "reversed_arr=arr[::-1]\n",
        "print(\"Original array: \", arr)\n",
        "print(\"reversed array: \", reversed_arr)"
      ],
      "metadata": {
        "colab": {
          "base_uri": "https://localhost:8080/"
        },
        "id": "6hav3gK6H9Kt",
        "outputId": "4f11d798-b5f3-412a-9a10-639b0e2ea593"
      },
      "execution_count": null,
      "outputs": [
        {
          "output_type": "stream",
          "name": "stdout",
          "text": [
            "Original array:  [1 2 0 0 4 0]\n",
            "reversed array:  [0 4 0 0 2 1]\n"
          ]
        }
      ]
    },
    {
      "cell_type": "markdown",
      "source": [
        "8.Create a 2d array with 1 on border and 0 inside."
      ],
      "metadata": {
        "id": "8l9etneLIgAf"
      }
    },
    {
      "cell_type": "code",
      "source": [
        "arr=np.zeros((5,5),dtype=int)\n",
        "arr[0,:]=1 #top\n",
        "arr[-1,:]=1 #bottom\n",
        "arr[:,0]=1 #left\n",
        "arr[:,-1]=1 #right\n",
        "print(\"2D array with 1 on border and 0 inside: \\n\",arr)\n"
      ],
      "metadata": {
        "colab": {
          "base_uri": "https://localhost:8080/"
        },
        "id": "oY7H8SsXI-GQ",
        "outputId": "c4c0193c-64ec-421d-84ce-6a1569bf395c"
      },
      "execution_count": null,
      "outputs": [
        {
          "output_type": "stream",
          "name": "stdout",
          "text": [
            "2D array with 1 on border and 0 inside: \n",
            " [[1 1 1 1 1]\n",
            " [1 0 0 0 1]\n",
            " [1 0 0 0 1]\n",
            " [1 0 0 0 1]\n",
            " [1 1 1 1 1]]\n"
          ]
        }
      ]
    },
    {
      "cell_type": "markdown",
      "source": [
        "9.Create a 8X8 matrix and fill it with a checkerboard pattern."
      ],
      "metadata": {
        "id": "qsl9nVx2J3Zv"
      }
    },
    {
      "cell_type": "code",
      "source": [
        "import numpy as np\n",
        "board=np.zeros((8,8), dtype=int)\n",
        "board[1::2,::2]=1\n",
        "board[::2,1::2]=1\n",
        "print(board)\n",
        "\n"
      ],
      "metadata": {
        "id": "JBCC1tLBJ_uN",
        "colab": {
          "base_uri": "https://localhost:8080/"
        },
        "outputId": "eaa078b0-3f4d-4b0e-818d-d300a34a195b"
      },
      "execution_count": null,
      "outputs": [
        {
          "output_type": "stream",
          "name": "stdout",
          "text": [
            "[[0 1 0 1 0 1 0 1]\n",
            " [1 0 1 0 1 0 1 0]\n",
            " [0 1 0 1 0 1 0 1]\n",
            " [1 0 1 0 1 0 1 0]\n",
            " [0 1 0 1 0 1 0 1]\n",
            " [1 0 1 0 1 0 1 0]\n",
            " [0 1 0 1 0 1 0 1]\n",
            " [1 0 1 0 1 0 1 0]]\n"
          ]
        }
      ]
    },
    {
      "cell_type": "markdown",
      "source": [
        "Problem - 3: Array Operations:\n",
        "For the following arrays:\n",
        "x = np.array([[1,2],[3,5]]) and y = np.array([[5,6],[7,8]]);\n",
        "v = np.array([9,10]) and w = np.array([11,12]);\n",
        "Complete all the task using numpy:"
      ],
      "metadata": {
        "id": "Y0GamJqvwrZV"
      }
    },
    {
      "cell_type": "markdown",
      "source": [
        "1. Add the two array."
      ],
      "metadata": {
        "id": "CKfTOzzyw4tZ"
      }
    },
    {
      "cell_type": "code",
      "source": [
        "x=np.array([[1,2],[3,5]])\n",
        "y=np.array([[5,6],[7,8]])\n",
        "v = np.array([9,10])\n",
        "w = np.array([11,12])\n",
        "print(\"x: \\n\",x)\n",
        "print(\"y: \\n\",y)\n",
        "add=x+y\n",
        "addition=v+w\n",
        "print(\"Adding x+y: \\n\",add)\n",
        "print(\"v: \\n\",v)\n",
        "print(\"w: \\n\",w)\n",
        "print(\"adding v+w: \",addition)"
      ],
      "metadata": {
        "colab": {
          "base_uri": "https://localhost:8080/"
        },
        "id": "rl2yr8thw8e2",
        "outputId": "cdd1ca5a-056f-4347-f549-a32804c27610"
      },
      "execution_count": null,
      "outputs": [
        {
          "output_type": "stream",
          "name": "stdout",
          "text": [
            "x: \n",
            " [[1 2]\n",
            " [3 5]]\n",
            "y: \n",
            " [[5 6]\n",
            " [7 8]]\n",
            "Adding x+y: \n",
            " [[ 6  8]\n",
            " [10 13]]\n",
            "v: \n",
            " [ 9 10]\n",
            "w: \n",
            " [11 12]\n",
            "adding v+w:  [20 22]\n"
          ]
        }
      ]
    },
    {
      "cell_type": "markdown",
      "source": [
        "2. Subtract the two array."
      ],
      "metadata": {
        "id": "gFaxVRXhzyL2"
      }
    },
    {
      "cell_type": "code",
      "source": [
        "sub=x-y\n",
        "subtract=v-w\n",
        "print(\"subtracting y from x: \",sub)\n",
        "print(\"subtracting w from v: \",subtract)"
      ],
      "metadata": {
        "colab": {
          "base_uri": "https://localhost:8080/"
        },
        "id": "Hpdj1SDAz1_V",
        "outputId": "6abe7c5a-57b5-4726-bbec-8ea955809d9e"
      },
      "execution_count": null,
      "outputs": [
        {
          "output_type": "stream",
          "name": "stdout",
          "text": [
            "subtracting y from x:  [[-4 -4]\n",
            " [-4 -3]]\n",
            "subtracting w from v:  [-2 -2]\n"
          ]
        }
      ]
    },
    {
      "cell_type": "markdown",
      "source": [
        "3. Multiply the array with any integers of your choice."
      ],
      "metadata": {
        "id": "WXCPQ3NE02_C"
      }
    },
    {
      "cell_type": "code",
      "source": [
        "mul_x=x*2\n",
        "print(\"x: \\n\",mul_x)\n",
        "mul_y=y*2\n",
        "print(\"y: \\n\",mul_y)\n",
        "mul_w=w*2\n",
        "print(\"w: \\n\",mul_w)\n",
        "mul_v=v*2\n",
        "print(\"v: \\n\",mul_v)"
      ],
      "metadata": {
        "colab": {
          "base_uri": "https://localhost:8080/"
        },
        "id": "RetmzMHG1BOS",
        "outputId": "db3d3735-85b4-47a2-a6d1-22e229343167"
      },
      "execution_count": null,
      "outputs": [
        {
          "output_type": "stream",
          "name": "stdout",
          "text": [
            "x: \n",
            " [[ 2  4]\n",
            " [ 6 10]]\n",
            "y: \n",
            " [[10 12]\n",
            " [14 16]]\n",
            "w: \n",
            " [22 24]\n",
            "v: \n",
            " [18 20]\n"
          ]
        }
      ]
    },
    {
      "cell_type": "markdown",
      "source": [
        "4. Find the square of each element of the array."
      ],
      "metadata": {
        "id": "JG6ZKKvbys0b"
      }
    },
    {
      "cell_type": "code",
      "source": [
        "sq_x=np.square(x)\n",
        "print(\"squaring x: \\n\",sq_x )\n",
        "sq_y=np.square(y)\n",
        "print(\"squaring y: \\n\",sq_y )\n",
        "sq_v=np.square(v)\n",
        "print(\"squaring v: \\n\",sq_v )\n",
        "sq_w=np.square(w)\n",
        "print(\"squaring w: \\n\",sq_w )\n",
        "\n",
        "\n"
      ],
      "metadata": {
        "colab": {
          "base_uri": "https://localhost:8080/"
        },
        "id": "ikT9pdm-2ug0",
        "outputId": "a7586cac-df7e-493a-ef5f-52c514265eda"
      },
      "execution_count": null,
      "outputs": [
        {
          "output_type": "stream",
          "name": "stdout",
          "text": [
            "squaring x: \n",
            " [[ 1  4]\n",
            " [ 9 25]]\n",
            "squaring y: \n",
            " [[25 36]\n",
            " [49 64]]\n",
            "squaring v: \n",
            " [ 81 100]\n",
            "squaring w: \n",
            " [121 144]\n"
          ]
        }
      ]
    },
    {
      "cell_type": "markdown",
      "source": [
        "5. Find the dot product between: v(and)w ; x(and)v ; x(and)y."
      ],
      "metadata": {
        "id": "Ysc1quPX4eru"
      }
    },
    {
      "cell_type": "code",
      "source": [
        "result_vw = np.dot(v, w)\n",
        "print(\"Dot product of v and w: \\n\", result_vw)\n",
        "result_xv = np.dot(x, v)\n",
        "print(\"Dot product of x and v:\\n\", result_xv)\n",
        "result_xy = np.dot(x, y)\n",
        "print(\"Dot product of x and y:\\n\", result_xy)\n"
      ],
      "metadata": {
        "colab": {
          "base_uri": "https://localhost:8080/"
        },
        "id": "APxk-IVg4h-T",
        "outputId": "a809ffe9-d8f1-4835-eb48-aaab19af6806"
      },
      "execution_count": null,
      "outputs": [
        {
          "output_type": "stream",
          "name": "stdout",
          "text": [
            "Dot product of v and w: \n",
            " 219\n",
            "Dot product of x and v:\n",
            " [29 77]\n",
            "Dot product of x and y:\n",
            " [[19 22]\n",
            " [50 58]]\n"
          ]
        }
      ]
    },
    {
      "cell_type": "markdown",
      "source": [
        "6. Concatenate x(and)y along row and Concatenate v(and)w along column.\n",
        "{Hint:try np.concatenate() or np.vstack() functions."
      ],
      "metadata": {
        "id": "Lo4qix3jUEkz"
      }
    },
    {
      "cell_type": "code",
      "source": [
        "arr=np.concatenate((x,y),axis=1)\n",
        "print(\"along row: \\n\",arr)\n",
        "array=np.vstack((v,w))\n",
        "print(\"along column: \\n\",array)"
      ],
      "metadata": {
        "colab": {
          "base_uri": "https://localhost:8080/"
        },
        "id": "m6InXi7vVOeY",
        "outputId": "d6949cb1-8b4d-4952-e3e8-56dc5007477e"
      },
      "execution_count": null,
      "outputs": [
        {
          "output_type": "stream",
          "name": "stdout",
          "text": [
            "along row: \n",
            " [[1 2 5 6]\n",
            " [3 5 7 8]]\n",
            "along column: \n",
            " [[ 9 10]\n",
            " [11 12]]\n"
          ]
        }
      ]
    },
    {
      "cell_type": "markdown",
      "source": [
        "7. Concatenate x(and)v; if you get an error, observe and explain why did you get the error?"
      ],
      "metadata": {
        "id": "x7-Qb-BNWUNb"
      }
    },
    {
      "cell_type": "code",
      "source": [
        "result = np.concatenate((x, v))\n",
        "print(\"Concatenation result:\\n\", result)"
      ],
      "metadata": {
        "colab": {
          "base_uri": "https://localhost:8080/",
          "height": 176
        },
        "id": "5CinylGtXBL5",
        "outputId": "6397c932-3393-49a1-c3e2-327b845cb227"
      },
      "execution_count": null,
      "outputs": [
        {
          "output_type": "error",
          "ename": "ValueError",
          "evalue": "all the input arrays must have same number of dimensions, but the array at index 0 has 2 dimension(s) and the array at index 1 has 1 dimension(s)",
          "traceback": [
            "\u001b[0;31m---------------------------------------------------------------------------\u001b[0m",
            "\u001b[0;31mValueError\u001b[0m                                Traceback (most recent call last)",
            "\u001b[0;32m<ipython-input-19-2df462a1b36b>\u001b[0m in \u001b[0;36m<cell line: 1>\u001b[0;34m()\u001b[0m\n\u001b[0;32m----> 1\u001b[0;31m \u001b[0mresult\u001b[0m \u001b[0;34m=\u001b[0m \u001b[0mnp\u001b[0m\u001b[0;34m.\u001b[0m\u001b[0mconcatenate\u001b[0m\u001b[0;34m(\u001b[0m\u001b[0;34m(\u001b[0m\u001b[0mx\u001b[0m\u001b[0;34m,\u001b[0m \u001b[0mv\u001b[0m\u001b[0;34m)\u001b[0m\u001b[0;34m)\u001b[0m\u001b[0;34m\u001b[0m\u001b[0;34m\u001b[0m\u001b[0m\n\u001b[0m\u001b[1;32m      2\u001b[0m \u001b[0mprint\u001b[0m\u001b[0;34m(\u001b[0m\u001b[0;34m\"Concatenation result:\\n\"\u001b[0m\u001b[0;34m,\u001b[0m \u001b[0mresult\u001b[0m\u001b[0;34m)\u001b[0m\u001b[0;34m\u001b[0m\u001b[0;34m\u001b[0m\u001b[0m\n",
            "\u001b[0;31mValueError\u001b[0m: all the input arrays must have same number of dimensions, but the array at index 0 has 2 dimension(s) and the array at index 1 has 1 dimension(s)"
          ]
        }
      ]
    },
    {
      "cell_type": "markdown",
      "source": [
        "x is a 2D array whereas v is a 1D array. We cannot directly concatenate a 2D array and a 1D array because The np.concatenate() function requires that the arrays being concatenated must have the same number of dimensions and in this case, both should be 2D arrays. Therefore, we get error.\n"
      ],
      "metadata": {
        "id": "PBHPMXmOen7r"
      }
    },
    {
      "cell_type": "markdown",
      "source": [
        "Problem - 4: Matrix Operations:\n",
        "• For the following arrays:\n",
        "A = np.array([[3,4],[7,8]]) and B = np.array([[5,3],[2,1]]);\n",
        "Prove following with Numpy:\n",
        "1. Prove A.A^−1 = I\n"
      ],
      "metadata": {
        "id": "1Ywrjh9UVWrn"
      }
    },
    {
      "cell_type": "code",
      "source": [
        "import numpy as np\n",
        "A=np.array([[3,4],[7,8]])\n",
        "B=np.array([[5,3],[2,1]])\n",
        "A_inv=np.linalg.inv(A)\n",
        "result=np.dot(A,A_inv)\n",
        "identity_matrix=np.eye(2)\n",
        "print(\"Matrix A:\\n\", A)\n",
        "print(\"Inverse of A (A^-1):\\n\", A_inv)\n",
        "print(\"Product of A and A^-1 (A.A^-1):\\n\", result)\n",
        "print(\"Identity Matrix:\\n\", identity_matrix)\n",
        "y=np.allclose(result,identity_matrix)\n",
        "print(\"Is A.A^-1 equal to identity matrix?->\",y)\n"
      ],
      "metadata": {
        "colab": {
          "base_uri": "https://localhost:8080/"
        },
        "id": "5wrBX4fYWv9F",
        "outputId": "21ab99a5-ca82-43b3-855b-de68fda5c14b"
      },
      "execution_count": 4,
      "outputs": [
        {
          "output_type": "stream",
          "name": "stdout",
          "text": [
            "Matrix A:\n",
            " [[3 4]\n",
            " [7 8]]\n",
            "Inverse of A (A^-1):\n",
            " [[-2.    1.  ]\n",
            " [ 1.75 -0.75]]\n",
            "Product of A and A^-1 (A.A^-1):\n",
            " [[1.00000000e+00 0.00000000e+00]\n",
            " [1.77635684e-15 1.00000000e+00]]\n",
            "Identity Matrix:\n",
            " [[1. 0.]\n",
            " [0. 1.]]\n",
            "Is A.A^-1 equal to identity matrix?-> True\n"
          ]
        }
      ]
    },
    {
      "cell_type": "markdown",
      "source": [
        "2. Prove AB ̸= BA."
      ],
      "metadata": {
        "id": "XtuwrGyLdlY-"
      }
    },
    {
      "cell_type": "code",
      "source": [
        "AB = np.dot(A, B)\n",
        "BA = np.dot(B, A)\n",
        "print(\"AB (A * B):\\n\", AB)\n",
        "print(\"BA (B * A):\\n\", BA)\n",
        "are_equal=np.array_equal(AB,BA)\n",
        "print(\" Is AB = BA? \",are_equal)"
      ],
      "metadata": {
        "colab": {
          "base_uri": "https://localhost:8080/"
        },
        "id": "rmvvpFKwdyAt",
        "outputId": "3acd1631-e81b-4699-cf58-bad561a52cc8"
      },
      "execution_count": 5,
      "outputs": [
        {
          "output_type": "stream",
          "name": "stdout",
          "text": [
            "AB (A * B):\n",
            " [[23 13]\n",
            " [51 29]]\n",
            "BA (B * A):\n",
            " [[36 44]\n",
            " [13 16]]\n",
            " Is AB = BA?  False\n"
          ]
        }
      ]
    },
    {
      "cell_type": "markdown",
      "source": [
        " 3. Prove (AB)^T=B^T*A^T"
      ],
      "metadata": {
        "id": "fzvpJ6TVfFKq"
      }
    },
    {
      "cell_type": "code",
      "source": [
        "A = np.array([[1, 2], [3, 4]])\n",
        "B = np.array([[5, 6], [7, 8]])\n",
        "AB=np.dot(A,B)\n",
        "AB_T=AB.T\n",
        "B_T=B.T\n",
        "A_T=A.T\n",
        "BT_AT=np.dot(B_T,A_T)\n",
        "print(\"AB:\\n\", AB)\n",
        "print(\"(AB)^T:\\n\", AB_T)\n",
        "print(\"B^T:\\n\", B_T)\n",
        "print(\"A^T:\\n\", A_T)\n",
        "print(\"B^T * A^T:\\n\", BT_AT)\n",
        "is_equal=np.array_equal(AB_T,BT_AT)\n",
        "print(\"Is (AB)^T equal to B^T * A^T? \", is_equal)"
      ],
      "metadata": {
        "colab": {
          "base_uri": "https://localhost:8080/"
        },
        "id": "AsNva8ypfVPO",
        "outputId": "000c7192-6c11-43fd-c09a-4080f128a726"
      },
      "execution_count": 6,
      "outputs": [
        {
          "output_type": "stream",
          "name": "stdout",
          "text": [
            "AB:\n",
            " [[19 22]\n",
            " [43 50]]\n",
            "(AB)^T:\n",
            " [[19 43]\n",
            " [22 50]]\n",
            "B^T:\n",
            " [[5 7]\n",
            " [6 8]]\n",
            "A^T:\n",
            " [[1 3]\n",
            " [2 4]]\n",
            "B^T * A^T:\n",
            " [[19 43]\n",
            " [22 50]]\n",
            "Is (AB)^T equal to B^T * A^T?  True\n"
          ]
        }
      ]
    },
    {
      "cell_type": "markdown",
      "source": [
        "Solve the following system of Linear equation using Inverse Methods.\n",
        "\n",
        "2x − 3y + z = −1\n",
        "x − y + 2z = −3\n",
        "3x + y − z = 9\n",
        "{Hint: First use Numpy array to represent the equation in Matrix form. Then Solve for: AX = B}"
      ],
      "metadata": {
        "id": "pmznpcmvh_oE"
      }
    },
    {
      "cell_type": "code",
      "source": [
        "import numpy as np\n",
        "A=np.array([[2,-3,1], [1,-1,2], [3,1,-1]])\n",
        "B=np.array([-1,-3,9])\n",
        "A_inv=np.linalg.inv(A)\n",
        "x=np.dot(A_inv,B)\n",
        "print(\"Coefficient Matrix (A):\\n\", A)\n",
        "print(\"Constants Vector (B):\\n\", B)\n",
        "print(\"Inverse of A (A^-1):\\n\", A_inv)\n",
        "print(\"Solution Vector (X):\\n\", x)"
      ],
      "metadata": {
        "colab": {
          "base_uri": "https://localhost:8080/"
        },
        "id": "gOk_IV2WiBL1",
        "outputId": "c1d70bf7-14a0-47f0-f57c-8db11cd8fbb9"
      },
      "execution_count": 5,
      "outputs": [
        {
          "output_type": "stream",
          "name": "stdout",
          "text": [
            "[[ 2 -3  1]\n",
            " [ 1 -1  2]\n",
            " [ 3  1 -1]]\n",
            "Coefficient Matrix (A):\n",
            " [[ 2 -3  1]\n",
            " [ 1 -1  2]\n",
            " [ 3  1 -1]]\n",
            "Constants Vector (B):\n",
            " [-1 -3  9]\n",
            "Inverse of A (A^-1):\n",
            " [[ 0.05263158  0.10526316  0.26315789]\n",
            " [-0.36842105  0.26315789  0.15789474]\n",
            " [-0.21052632  0.57894737 -0.05263158]]\n",
            "Solution Vector (X):\n",
            " [ 2.  1. -2.]\n"
          ]
        }
      ]
    },
    {
      "cell_type": "markdown",
      "source": [
        "4.2 Experiment: How Fast is Numpy?\n",
        "In this exercise, you will compare the performance and implementation of operations using plain Python\n",
        "lists (arrays) and NumPy arrays. Follow the instructions:"
      ],
      "metadata": {
        "id": "SAOPlbQ_U6Mc"
      }
    },
    {
      "cell_type": "markdown",
      "source": [
        "1. Element-wise Addition:\n",
        "• Using Python Lists, perform element-wise addition of two lists of size 1, 000, 000. Measure\n",
        "and Print the time taken for this operation.\n",
        "• Using Numpy Arrays, Repeat the calculation and measure and print the time taken for this\n",
        "operation."
      ],
      "metadata": {
        "id": "RtUzomtKU7fm"
      }
    },
    {
      "cell_type": "code",
      "source": [
        "import numpy as np\n",
        "import time\n",
        "list1=list(range(1,1000001))\n",
        "list2=list(range(1,1000001))\n",
        "start_time= time.time()\n",
        "result_list=[a+b for a, b in zip(list1,list2)]\n",
        "python_time=time.time()-start_time\n",
        "print(\"Time taken for element-wise addition using Python lists:\", python_time, \"seconds\")\n",
        "#numpy arrays:\n",
        "arr1=np.arange(1,1000001)\n",
        "arr2=np.arange(1,1000001)\n",
        "\n",
        "start_time=time.time()\n",
        "result_array=arr1+arr2\n",
        "numpy_time=time.time()-start_time\n",
        "print(\"Time taken for element-wise addition using NumPy arrays:\", numpy_time, \"seconds\")\n",
        "\n"
      ],
      "metadata": {
        "colab": {
          "base_uri": "https://localhost:8080/"
        },
        "id": "iqDNVn3bVCAA",
        "outputId": "b892b4b2-ce26-45d6-b3f1-fba66b1467b7"
      },
      "execution_count": 7,
      "outputs": [
        {
          "output_type": "stream",
          "name": "stdout",
          "text": [
            "Time taken for element-wise addition using Python lists: 0.20983576774597168 seconds\n",
            "Time taken for element-wise addition using NumPy arrays: 0.009667634963989258 seconds\n"
          ]
        }
      ]
    },
    {
      "cell_type": "markdown",
      "source": [
        "2. Element-wise Multiplication\n",
        "\n",
        "• Using Python Lists, perform element-wise multiplication of two lists of size 1, 000, 000. Measure and Print the time taken for this operation.\n",
        "\n",
        "• Using Numpy Arrays, Repeat the calculation and measure and print the time taken for this\n",
        "operation."
      ],
      "metadata": {
        "id": "ZJdbcWl7YRrB"
      }
    },
    {
      "cell_type": "code",
      "source": [
        "import numpy as np\n",
        "import time\n",
        "list1=list(range(1,1000001))\n",
        "list2=list(range(1,1000001))\n",
        "start_time=time.time()\n",
        "result_list=[a*b for a,b in zip(list1,list2)]\n",
        "python_time=time.time()-start_time\n",
        "print(\"Time taken for element-wise multiplication using Python lists:\", python_time, \"seconds\")\n",
        "\n",
        "# NumPy arrays:\n",
        "arr1 = np.arange(1, 1000001)\n",
        "arr2 = np.arange(1, 1000001)\n",
        "\n",
        "start_time = time.time()\n",
        "result_array = arr1 * arr2\n",
        "numpy_time = time.time() - start_time\n",
        "print(\"Time taken for element-wise multiplication using NumPy arrays:\", numpy_time, \"seconds\")\n"
      ],
      "metadata": {
        "colab": {
          "base_uri": "https://localhost:8080/"
        },
        "id": "oxThCpesbFT7",
        "outputId": "53cce378-e70b-4a74-98c3-fdd6640a7649"
      },
      "execution_count": 9,
      "outputs": [
        {
          "output_type": "stream",
          "name": "stdout",
          "text": [
            "Time taken for element-wise multiplication using Python lists: 0.14147233963012695 seconds\n",
            "Time taken for element-wise multiplication using NumPy arrays: 0.004624605178833008 seconds\n"
          ]
        }
      ]
    },
    {
      "cell_type": "markdown",
      "source": [
        "3. Dot Product\n",
        "• Using Python Lists, compute the dot product of two lists of size 1, 000, 000. Measure and\n",
        "Print the time taken for this operation.\n",
        "• Using Numpy Arrays, Repeat the calculation and measure and print the time taken for this operation."
      ],
      "metadata": {
        "id": "QWAVACbaYRB3"
      }
    },
    {
      "cell_type": "code",
      "source": [
        "import numpy as np\n",
        "import time\n",
        "\n",
        "list1 = list(range(1, 1000001))\n",
        "list2 = list(range(1, 1000001))\n",
        "start_time = time.time()\n",
        "dot_product_list = sum(a * b for a, b in zip(list1, list2))\n",
        "python_time = time.time() - start_time\n",
        "print(\"Time taken for dot product using Python lists:\", python_time, \"seconds\")\n",
        "arr1 = np.arange(1, 1000001)\n",
        "arr2 = np.arange(1, 1000001)\n",
        "\n",
        "# dot product using NumPy arrays\n",
        "start_time = time.time()\n",
        "dot_product_numpy = np.dot(arr1, arr2)\n",
        "numpy_time = time.time() - start_time\n",
        "print(\"Time taken for dot product using NumPy arrays: \", numpy_time, \"seconds\")"
      ],
      "metadata": {
        "colab": {
          "base_uri": "https://localhost:8080/"
        },
        "id": "u5y7eZlOefa0",
        "outputId": "cccb9a8c-554c-4dfb-c911-b1c8be32b737"
      },
      "execution_count": 11,
      "outputs": [
        {
          "output_type": "stream",
          "name": "stdout",
          "text": [
            "Time taken for dot product using Python lists: 0.10646963119506836 seconds\n",
            "Time taken for dot product using NumPy arrays:  0.0018224716186523438 seconds\n"
          ]
        }
      ]
    },
    {
      "cell_type": "markdown",
      "source": [
        "4. Matrix Multiplication\n",
        "• Using Python lists, perform matrix multiplication of two matrices of size 1000x1000. Measure\n",
        "and print the time taken for this operation.\n",
        "\n",
        "• Using NumPy arrays, perform matrix multiplication of two matrices of size 1000x1000. Mea-\n",
        "sure and print the time taken for this operation."
      ],
      "metadata": {
        "id": "YdM5DDdmfxbG"
      }
    },
    {
      "cell_type": "code",
      "source": [
        "import numpy as np\n",
        "import time\n",
        "\n",
        "\n",
        "matrix1 = [[i for i in range(1000)] for j in range(1000)]\n",
        "matrix2 = [[i for i in range(1000)] for j in range(1000)]\n",
        "\n",
        "\n",
        "start_time = time.time()\n",
        "\n",
        "result_matrix = [[sum(matrix1[i][k] * matrix2[k][j] for k in range(1000)) for j in range(1000)] for i in range(1000)]\n",
        "\n",
        "python_time = time.time() - start_time\n",
        "print(\"Time taken for matrix multiplication using Python lists: \", python_time, \"seconds\")\n",
        "\n",
        "# Matrix multiplication using NumPy\n",
        "matrix1_np = np.random.rand(1000, 1000)\n",
        "matrix2_np = np.random.rand(1000, 1000)\n",
        "\n",
        "start_time = time.time()\n",
        "\n",
        "result_matrix_np = np.dot(matrix1_np, matrix2_np)\n",
        "\n",
        "numpy_time = time.time() - start_time\n",
        "print(\"Time taken for matrix multiplication using NumPy arrays: \", numpy_time, \"seconds\")\n"
      ],
      "metadata": {
        "colab": {
          "base_uri": "https://localhost:8080/"
        },
        "id": "Y6xEQQ6Tf6PK",
        "outputId": "f91e27c1-b127-4b45-f381-6eb57928c539"
      },
      "execution_count": 15,
      "outputs": [
        {
          "output_type": "stream",
          "name": "stdout",
          "text": [
            "Time taken for matrix multiplication using Python lists:  259.33086585998535 seconds\n",
            "Time taken for matrix multiplication using NumPy arrays:  0.06735491752624512 seconds\n"
          ]
        }
      ]
    }
  ]
}